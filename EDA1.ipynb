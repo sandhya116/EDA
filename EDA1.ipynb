{
  "nbformat": 4,
  "nbformat_minor": 0,
  "metadata": {
    "colab": {
      "name": "EDA1.ipynb",
      "provenance": [],
      "collapsed_sections": [],
      "toc_visible": true,
      "authorship_tag": "ABX9TyNyOlxPDK+rrC97+mYmd8E5",
      "include_colab_link": true
    },
    "kernelspec": {
      "name": "python3",
      "display_name": "Python 3"
    },
    "language_info": {
      "name": "python"
    }
  },
  "cells": [
    {
      "cell_type": "markdown",
      "metadata": {
        "id": "view-in-github",
        "colab_type": "text"
      },
      "source": [
        "<a href=\"https://colab.research.google.com/github/sandhya116/EDA/blob/main/EDA1.ipynb\" target=\"_parent\"><img src=\"https://colab.research.google.com/assets/colab-badge.svg\" alt=\"Open In Colab\"/></a>"
      ]
    },
    {
      "cell_type": "markdown",
      "source": [
        "# EDA on Accidents at work in Italy"
      ],
      "metadata": {
        "id": "4CK-By-jKv46"
      }
    },
    {
      "cell_type": "code",
      "source": [
        "pip install opendatasets --upgrade --quiet"
      ],
      "metadata": {
        "id": "qkKNSepOXM4R"
      },
      "execution_count": null,
      "outputs": []
    },
    {
      "cell_type": "code",
      "source": [
        "import opendatasets as od\n",
        "\n",
        "download_url = 'https://www.kaggle.com/serquet/accidents-at-work-in-italy'\n",
        "\n",
        "od.download(download_url)"
      ],
      "metadata": {
        "id": "vLaUZwwidf6K",
        "colab": {
          "base_uri": "https://localhost:8080/"
        },
        "outputId": "71f192be-fd91-477d-d119-084330e27a1b"
      },
      "execution_count": 10,
      "outputs": [
        {
          "output_type": "stream",
          "name": "stdout",
          "text": [
            "Please provide your Kaggle credentials to download this dataset. Learn more: http://bit.ly/kaggle-creds\n",
            "Your Kaggle username: sandhyayadavunbr\n",
            "Your Kaggle Key: ··········\n",
            "Downloading accidents-at-work-in-italy.zip to ./accidents-at-work-in-italy\n"
          ]
        },
        {
          "output_type": "stream",
          "name": "stderr",
          "text": [
            "100%|██████████| 188M/188M [00:04<00:00, 42.5MB/s]\n"
          ]
        },
        {
          "output_type": "stream",
          "name": "stdout",
          "text": [
            "\n"
          ]
        }
      ]
    },
    {
      "cell_type": "markdown",
      "source": [
        "Start Data cleansing\n",
        "\n",
        "Load the file using Pandas,\n",
        "Look at some information about the data & the columns,\n",
        "Fix any missing or incorrect values\n",
        "\n",
        "\n",
        "\n"
      ],
      "metadata": {
        "id": "nR26G1a9exjl"
      }
    },
    {
      "cell_type": "code",
      "source": [
        "data_filename = './accidents-at-work-in-italy/inail_inail.csv'"
      ],
      "metadata": {
        "id": "CxWAcdVnfQSI"
      },
      "execution_count": null,
      "outputs": []
    },
    {
      "cell_type": "code",
      "source": [
        "import pandas as pd"
      ],
      "metadata": {
        "id": "zDtsYlTag7_7"
      },
      "execution_count": null,
      "outputs": []
    },
    {
      "cell_type": "code",
      "source": [
        "df = pd.read_csv(data_filename)"
      ],
      "metadata": {
        "colab": {
          "base_uri": "https://localhost:8080/"
        },
        "id": "r0gAC5SvhBjA",
        "outputId": "23d28934-47ba-4521-89ab-2f077fc5c208"
      },
      "execution_count": 11,
      "outputs": [
        {
          "output_type": "stream",
          "name": "stderr",
          "text": [
            "/usr/local/lib/python3.7/dist-packages/IPython/core/interactiveshell.py:2718: DtypeWarning: Columns (4) have mixed types.Specify dtype option on import or set low_memory=False.\n",
            "  interactivity=interactivity, compiler=compiler, result=result)\n"
          ]
        }
      ]
    },
    {
      "cell_type": "code",
      "source": [
        "df"
      ],
      "metadata": {
        "colab": {
          "base_uri": "https://localhost:8080/",
          "height": 488
        },
        "id": "pl0uRfY5hJ-J",
        "outputId": "3e616c54-c78a-4158-f732-9e003a74f951"
      },
      "execution_count": 12,
      "outputs": [
        {
          "output_type": "execute_result",
          "data": {
            "text/html": [
              "\n",
              "  <div id=\"df-9e0845fb-3723-4524-bf2c-1b2b1d2404cf\">\n",
              "    <div class=\"colab-df-container\">\n",
              "      <div>\n",
              "<style scoped>\n",
              "    .dataframe tbody tr th:only-of-type {\n",
              "        vertical-align: middle;\n",
              "    }\n",
              "\n",
              "    .dataframe tbody tr th {\n",
              "        vertical-align: top;\n",
              "    }\n",
              "\n",
              "    .dataframe thead th {\n",
              "        text-align: right;\n",
              "    }\n",
              "</style>\n",
              "<table border=\"1\" class=\"dataframe\">\n",
              "  <thead>\n",
              "    <tr style=\"text-align: right;\">\n",
              "      <th></th>\n",
              "      <th>DetectionDate</th>\n",
              "      <th>ProtocolDate</th>\n",
              "      <th>DateOfEvent</th>\n",
              "      <th>DefinitionDate</th>\n",
              "      <th>DeathDate</th>\n",
              "      <th>PlaceOfOccurrence</th>\n",
              "      <th>AaccidentIdentification</th>\n",
              "      <th>Gender</th>\n",
              "      <th>Age</th>\n",
              "      <th>PlaceOfBirth</th>\n",
              "      <th>ModesOfOccurrence</th>\n",
              "      <th>WithOrWithoutTransport</th>\n",
              "      <th>CaseID</th>\n",
              "      <th>AdministrativeDefinition</th>\n",
              "      <th>AdministrativeDefinitionFatalOutcome</th>\n",
              "      <th>Compensation</th>\n",
              "      <th>InstructionalDecisionFatalOutcome</th>\n",
              "      <th>DegreeOfImpairment</th>\n",
              "      <th>DegreeCompensated</th>\n",
              "      <th>EmployerIdentification</th>\n",
              "      <th>TerritorialInsurancePosition</th>\n",
              "      <th>EconomicActivitySector</th>\n",
              "      <th>Management</th>\n",
              "      <th>TariffManagement</th>\n",
              "      <th>LargeTariffGroup</th>\n",
              "    </tr>\n",
              "  </thead>\n",
              "  <tbody>\n",
              "    <tr>\n",
              "      <th>0</th>\n",
              "      <td>30/04/2021</td>\n",
              "      <td>25/06/2018</td>\n",
              "      <td>22/06/2018</td>\n",
              "      <td>15/08/2018</td>\n",
              "      <td>NaN</td>\n",
              "      <td>20</td>\n",
              "      <td>13989297</td>\n",
              "      <td>F</td>\n",
              "      <td>54</td>\n",
              "      <td>ITAL</td>\n",
              "      <td>N</td>\n",
              "      <td>N</td>\n",
              "      <td>21587784</td>\n",
              "      <td>P</td>\n",
              "      <td>ND</td>\n",
              "      <td>TE</td>\n",
              "      <td>ND</td>\n",
              "      <td>-1</td>\n",
              "      <td>15</td>\n",
              "      <td>4120339</td>\n",
              "      <td>7478870</td>\n",
              "      <td>Q 87</td>\n",
              "      <td>I</td>\n",
              "      <td>3</td>\n",
              "      <td>0</td>\n",
              "    </tr>\n",
              "    <tr>\n",
              "      <th>1</th>\n",
              "      <td>30/04/2021</td>\n",
              "      <td>14/06/2019</td>\n",
              "      <td>12/06/2019</td>\n",
              "      <td>04/07/2019</td>\n",
              "      <td>NaN</td>\n",
              "      <td>27</td>\n",
              "      <td>8214943</td>\n",
              "      <td>F</td>\n",
              "      <td>61</td>\n",
              "      <td>ITAL</td>\n",
              "      <td>N</td>\n",
              "      <td>N</td>\n",
              "      <td>22385662</td>\n",
              "      <td>P</td>\n",
              "      <td>ND</td>\n",
              "      <td>TE</td>\n",
              "      <td>ND</td>\n",
              "      <td>-1</td>\n",
              "      <td>15</td>\n",
              "      <td>4771081</td>\n",
              "      <td>1982508</td>\n",
              "      <td>Q 87</td>\n",
              "      <td>I</td>\n",
              "      <td>3</td>\n",
              "      <td>0</td>\n",
              "    </tr>\n",
              "    <tr>\n",
              "      <th>2</th>\n",
              "      <td>30/04/2021</td>\n",
              "      <td>15/04/2020</td>\n",
              "      <td>01/04/2020</td>\n",
              "      <td>05/05/2020</td>\n",
              "      <td>NaN</td>\n",
              "      <td>27</td>\n",
              "      <td>24675768</td>\n",
              "      <td>F</td>\n",
              "      <td>49</td>\n",
              "      <td>ITAL</td>\n",
              "      <td>N</td>\n",
              "      <td>N</td>\n",
              "      <td>22923003</td>\n",
              "      <td>P</td>\n",
              "      <td>ND</td>\n",
              "      <td>TE</td>\n",
              "      <td>ND</td>\n",
              "      <td>-1</td>\n",
              "      <td>15</td>\n",
              "      <td>3490613</td>\n",
              "      <td>10687622</td>\n",
              "      <td>Q 87</td>\n",
              "      <td>I</td>\n",
              "      <td>3</td>\n",
              "      <td>0</td>\n",
              "    </tr>\n",
              "    <tr>\n",
              "      <th>3</th>\n",
              "      <td>30/04/2021</td>\n",
              "      <td>23/12/2020</td>\n",
              "      <td>20/12/2020</td>\n",
              "      <td>19/01/2021</td>\n",
              "      <td>NaN</td>\n",
              "      <td>22</td>\n",
              "      <td>12711994</td>\n",
              "      <td>F</td>\n",
              "      <td>47</td>\n",
              "      <td>Z127</td>\n",
              "      <td>N</td>\n",
              "      <td>N</td>\n",
              "      <td>23351299</td>\n",
              "      <td>P</td>\n",
              "      <td>ND</td>\n",
              "      <td>TE</td>\n",
              "      <td>ND</td>\n",
              "      <td>-1</td>\n",
              "      <td>15</td>\n",
              "      <td>5774459</td>\n",
              "      <td>3965254</td>\n",
              "      <td>Q 87</td>\n",
              "      <td>I</td>\n",
              "      <td>4</td>\n",
              "      <td>0</td>\n",
              "    </tr>\n",
              "    <tr>\n",
              "      <th>4</th>\n",
              "      <td>30/04/2021</td>\n",
              "      <td>30/10/2017</td>\n",
              "      <td>26/10/2017</td>\n",
              "      <td>21/11/2017</td>\n",
              "      <td>NaN</td>\n",
              "      <td>84</td>\n",
              "      <td>4770289</td>\n",
              "      <td>M</td>\n",
              "      <td>40</td>\n",
              "      <td>ITAL</td>\n",
              "      <td>N</td>\n",
              "      <td>N</td>\n",
              "      <td>21012366</td>\n",
              "      <td>P</td>\n",
              "      <td>ND</td>\n",
              "      <td>TE</td>\n",
              "      <td>ND</td>\n",
              "      <td>-1</td>\n",
              "      <td>15</td>\n",
              "      <td>6776721</td>\n",
              "      <td>8372342</td>\n",
              "      <td>Q 87</td>\n",
              "      <td>I</td>\n",
              "      <td>3</td>\n",
              "      <td>0</td>\n",
              "    </tr>\n",
              "    <tr>\n",
              "      <th>...</th>\n",
              "      <td>...</td>\n",
              "      <td>...</td>\n",
              "      <td>...</td>\n",
              "      <td>...</td>\n",
              "      <td>...</td>\n",
              "      <td>...</td>\n",
              "      <td>...</td>\n",
              "      <td>...</td>\n",
              "      <td>...</td>\n",
              "      <td>...</td>\n",
              "      <td>...</td>\n",
              "      <td>...</td>\n",
              "      <td>...</td>\n",
              "      <td>...</td>\n",
              "      <td>...</td>\n",
              "      <td>...</td>\n",
              "      <td>...</td>\n",
              "      <td>...</td>\n",
              "      <td>...</td>\n",
              "      <td>...</td>\n",
              "      <td>...</td>\n",
              "      <td>...</td>\n",
              "      <td>...</td>\n",
              "      <td>...</td>\n",
              "      <td>...</td>\n",
              "    </tr>\n",
              "    <tr>\n",
              "      <th>6299155</th>\n",
              "      <td>30/04/2021</td>\n",
              "      <td>23/10/2018</td>\n",
              "      <td>22/10/2018</td>\n",
              "      <td>07/11/2018</td>\n",
              "      <td>NaN</td>\n",
              "      <td>27</td>\n",
              "      <td>8632729</td>\n",
              "      <td>F</td>\n",
              "      <td>33</td>\n",
              "      <td>ITAL</td>\n",
              "      <td>N</td>\n",
              "      <td>N</td>\n",
              "      <td>21827852</td>\n",
              "      <td>P</td>\n",
              "      <td>ND</td>\n",
              "      <td>TE</td>\n",
              "      <td>ND</td>\n",
              "      <td>-1</td>\n",
              "      <td>15</td>\n",
              "      <td>4669083</td>\n",
              "      <td>5392212</td>\n",
              "      <td>Q 86</td>\n",
              "      <td>I</td>\n",
              "      <td>4</td>\n",
              "      <td>0</td>\n",
              "    </tr>\n",
              "    <tr>\n",
              "      <th>6299156</th>\n",
              "      <td>30/04/2021</td>\n",
              "      <td>24/10/2016</td>\n",
              "      <td>23/10/2016</td>\n",
              "      <td>12/04/2017</td>\n",
              "      <td>NaN</td>\n",
              "      <td>78</td>\n",
              "      <td>5265653</td>\n",
              "      <td>M</td>\n",
              "      <td>52</td>\n",
              "      <td>ITAL</td>\n",
              "      <td>N</td>\n",
              "      <td>N</td>\n",
              "      <td>20234719</td>\n",
              "      <td>P</td>\n",
              "      <td>ND</td>\n",
              "      <td>TE</td>\n",
              "      <td>ND</td>\n",
              "      <td>-1</td>\n",
              "      <td>15</td>\n",
              "      <td>7854254</td>\n",
              "      <td>9858144</td>\n",
              "      <td>Q 86</td>\n",
              "      <td>I</td>\n",
              "      <td>4</td>\n",
              "      <td>0</td>\n",
              "    </tr>\n",
              "    <tr>\n",
              "      <th>6299157</th>\n",
              "      <td>30/04/2021</td>\n",
              "      <td>21/11/2020</td>\n",
              "      <td>15/11/2020</td>\n",
              "      <td>18/12/2020</td>\n",
              "      <td>NaN</td>\n",
              "      <td>15</td>\n",
              "      <td>33035372</td>\n",
              "      <td>M</td>\n",
              "      <td>40</td>\n",
              "      <td>ITAL</td>\n",
              "      <td>N</td>\n",
              "      <td>N</td>\n",
              "      <td>23249276</td>\n",
              "      <td>P</td>\n",
              "      <td>ND</td>\n",
              "      <td>TE</td>\n",
              "      <td>ND</td>\n",
              "      <td>-1</td>\n",
              "      <td>15</td>\n",
              "      <td>6584047</td>\n",
              "      <td>8110360</td>\n",
              "      <td>Q 86</td>\n",
              "      <td>I</td>\n",
              "      <td>3</td>\n",
              "      <td>0</td>\n",
              "    </tr>\n",
              "    <tr>\n",
              "      <th>6299158</th>\n",
              "      <td>30/04/2021</td>\n",
              "      <td>03/05/2020</td>\n",
              "      <td>25/04/2020</td>\n",
              "      <td>16/05/2020</td>\n",
              "      <td>NaN</td>\n",
              "      <td>4</td>\n",
              "      <td>12450391</td>\n",
              "      <td>M</td>\n",
              "      <td>39</td>\n",
              "      <td>Z611</td>\n",
              "      <td>N</td>\n",
              "      <td>N</td>\n",
              "      <td>22975228</td>\n",
              "      <td>P</td>\n",
              "      <td>ND</td>\n",
              "      <td>TE</td>\n",
              "      <td>ND</td>\n",
              "      <td>-1</td>\n",
              "      <td>15</td>\n",
              "      <td>7821071</td>\n",
              "      <td>9777934</td>\n",
              "      <td>Q 87</td>\n",
              "      <td>I</td>\n",
              "      <td>3</td>\n",
              "      <td>0</td>\n",
              "    </tr>\n",
              "    <tr>\n",
              "      <th>6299159</th>\n",
              "      <td>30/04/2021</td>\n",
              "      <td>21/06/2017</td>\n",
              "      <td>20/06/2017</td>\n",
              "      <td>08/11/2017</td>\n",
              "      <td>NaN</td>\n",
              "      <td>87</td>\n",
              "      <td>1815563</td>\n",
              "      <td>M</td>\n",
              "      <td>68</td>\n",
              "      <td>ITAL</td>\n",
              "      <td>N</td>\n",
              "      <td>S</td>\n",
              "      <td>20779819</td>\n",
              "      <td>P</td>\n",
              "      <td>ND</td>\n",
              "      <td>TE</td>\n",
              "      <td>ND</td>\n",
              "      <td>-1</td>\n",
              "      <td>15</td>\n",
              "      <td>5718100</td>\n",
              "      <td>6766863</td>\n",
              "      <td>Q 87</td>\n",
              "      <td>I</td>\n",
              "      <td>3</td>\n",
              "      <td>0</td>\n",
              "    </tr>\n",
              "  </tbody>\n",
              "</table>\n",
              "<p>6299160 rows × 25 columns</p>\n",
              "</div>\n",
              "      <button class=\"colab-df-convert\" onclick=\"convertToInteractive('df-9e0845fb-3723-4524-bf2c-1b2b1d2404cf')\"\n",
              "              title=\"Convert this dataframe to an interactive table.\"\n",
              "              style=\"display:none;\">\n",
              "        \n",
              "  <svg xmlns=\"http://www.w3.org/2000/svg\" height=\"24px\"viewBox=\"0 0 24 24\"\n",
              "       width=\"24px\">\n",
              "    <path d=\"M0 0h24v24H0V0z\" fill=\"none\"/>\n",
              "    <path d=\"M18.56 5.44l.94 2.06.94-2.06 2.06-.94-2.06-.94-.94-2.06-.94 2.06-2.06.94zm-11 1L8.5 8.5l.94-2.06 2.06-.94-2.06-.94L8.5 2.5l-.94 2.06-2.06.94zm10 10l.94 2.06.94-2.06 2.06-.94-2.06-.94-.94-2.06-.94 2.06-2.06.94z\"/><path d=\"M17.41 7.96l-1.37-1.37c-.4-.4-.92-.59-1.43-.59-.52 0-1.04.2-1.43.59L10.3 9.45l-7.72 7.72c-.78.78-.78 2.05 0 2.83L4 21.41c.39.39.9.59 1.41.59.51 0 1.02-.2 1.41-.59l7.78-7.78 2.81-2.81c.8-.78.8-2.07 0-2.86zM5.41 20L4 18.59l7.72-7.72 1.47 1.35L5.41 20z\"/>\n",
              "  </svg>\n",
              "      </button>\n",
              "      \n",
              "  <style>\n",
              "    .colab-df-container {\n",
              "      display:flex;\n",
              "      flex-wrap:wrap;\n",
              "      gap: 12px;\n",
              "    }\n",
              "\n",
              "    .colab-df-convert {\n",
              "      background-color: #E8F0FE;\n",
              "      border: none;\n",
              "      border-radius: 50%;\n",
              "      cursor: pointer;\n",
              "      display: none;\n",
              "      fill: #1967D2;\n",
              "      height: 32px;\n",
              "      padding: 0 0 0 0;\n",
              "      width: 32px;\n",
              "    }\n",
              "\n",
              "    .colab-df-convert:hover {\n",
              "      background-color: #E2EBFA;\n",
              "      box-shadow: 0px 1px 2px rgba(60, 64, 67, 0.3), 0px 1px 3px 1px rgba(60, 64, 67, 0.15);\n",
              "      fill: #174EA6;\n",
              "    }\n",
              "\n",
              "    [theme=dark] .colab-df-convert {\n",
              "      background-color: #3B4455;\n",
              "      fill: #D2E3FC;\n",
              "    }\n",
              "\n",
              "    [theme=dark] .colab-df-convert:hover {\n",
              "      background-color: #434B5C;\n",
              "      box-shadow: 0px 1px 3px 1px rgba(0, 0, 0, 0.15);\n",
              "      filter: drop-shadow(0px 1px 2px rgba(0, 0, 0, 0.3));\n",
              "      fill: #FFFFFF;\n",
              "    }\n",
              "  </style>\n",
              "\n",
              "      <script>\n",
              "        const buttonEl =\n",
              "          document.querySelector('#df-9e0845fb-3723-4524-bf2c-1b2b1d2404cf button.colab-df-convert');\n",
              "        buttonEl.style.display =\n",
              "          google.colab.kernel.accessAllowed ? 'block' : 'none';\n",
              "\n",
              "        async function convertToInteractive(key) {\n",
              "          const element = document.querySelector('#df-9e0845fb-3723-4524-bf2c-1b2b1d2404cf');\n",
              "          const dataTable =\n",
              "            await google.colab.kernel.invokeFunction('convertToInteractive',\n",
              "                                                     [key], {});\n",
              "          if (!dataTable) return;\n",
              "\n",
              "          const docLinkHtml = 'Like what you see? Visit the ' +\n",
              "            '<a target=\"_blank\" href=https://colab.research.google.com/notebooks/data_table.ipynb>data table notebook</a>'\n",
              "            + ' to learn more about interactive tables.';\n",
              "          element.innerHTML = '';\n",
              "          dataTable['output_type'] = 'display_data';\n",
              "          await google.colab.output.renderOutput(dataTable, element);\n",
              "          const docLink = document.createElement('div');\n",
              "          docLink.innerHTML = docLinkHtml;\n",
              "          element.appendChild(docLink);\n",
              "        }\n",
              "      </script>\n",
              "    </div>\n",
              "  </div>\n",
              "  "
            ],
            "text/plain": [
              "        DetectionDate ProtocolDate  ... TariffManagement LargeTariffGroup\n",
              "0          30/04/2021   25/06/2018  ...                3                0\n",
              "1          30/04/2021   14/06/2019  ...                3                0\n",
              "2          30/04/2021   15/04/2020  ...                3                0\n",
              "3          30/04/2021   23/12/2020  ...                4                0\n",
              "4          30/04/2021   30/10/2017  ...                3                0\n",
              "...               ...          ...  ...              ...              ...\n",
              "6299155    30/04/2021   23/10/2018  ...                4                0\n",
              "6299156    30/04/2021   24/10/2016  ...                4                0\n",
              "6299157    30/04/2021   21/11/2020  ...                3                0\n",
              "6299158    30/04/2021   03/05/2020  ...                3                0\n",
              "6299159    30/04/2021   21/06/2017  ...                3                0\n",
              "\n",
              "[6299160 rows x 25 columns]"
            ]
          },
          "metadata": {},
          "execution_count": 12
        }
      ]
    },
    {
      "cell_type": "code",
      "source": [
        "df.info()"
      ],
      "metadata": {
        "colab": {
          "base_uri": "https://localhost:8080/"
        },
        "id": "pRMLPby_hQms",
        "outputId": "deccb523-0b7b-4008-8b1d-63b6382258b6"
      },
      "execution_count": 13,
      "outputs": [
        {
          "output_type": "stream",
          "name": "stdout",
          "text": [
            "<class 'pandas.core.frame.DataFrame'>\n",
            "RangeIndex: 6299160 entries, 0 to 6299159\n",
            "Data columns (total 25 columns):\n",
            " #   Column                                Dtype \n",
            "---  ------                                ----- \n",
            " 0   DetectionDate                         object\n",
            " 1   ProtocolDate                          object\n",
            " 2   DateOfEvent                           object\n",
            " 3   DefinitionDate                        object\n",
            " 4   DeathDate                             object\n",
            " 5   PlaceOfOccurrence                     int64 \n",
            " 6   AaccidentIdentification               int64 \n",
            " 7   Gender                                object\n",
            " 8   Age                                   int64 \n",
            " 9   PlaceOfBirth                          object\n",
            " 10  ModesOfOccurrence                     object\n",
            " 11  WithOrWithoutTransport                object\n",
            " 12  CaseID                                int64 \n",
            " 13  AdministrativeDefinition              object\n",
            " 14  AdministrativeDefinitionFatalOutcome  object\n",
            " 15  Compensation                          object\n",
            " 16  InstructionalDecisionFatalOutcome     object\n",
            " 17  DegreeOfImpairment                    int64 \n",
            " 18  DegreeCompensated                     int64 \n",
            " 19  EmployerIdentification                int64 \n",
            " 20  TerritorialInsurancePosition          int64 \n",
            " 21  EconomicActivitySector                object\n",
            " 22  Management                            object\n",
            " 23  TariffManagement                      object\n",
            " 24  LargeTariffGroup                      object\n",
            "dtypes: int64(8), object(17)\n",
            "memory usage: 1.2+ GB\n"
          ]
        }
      ]
    },
    {
      "cell_type": "code",
      "source": [
        "df.describe()"
      ],
      "metadata": {
        "colab": {
          "base_uri": "https://localhost:8080/",
          "height": 364
        },
        "id": "Jhkiwh9ziOw7",
        "outputId": "55103521-3ea3-41a0-c0b1-89128e988bb9"
      },
      "execution_count": 14,
      "outputs": [
        {
          "output_type": "execute_result",
          "data": {
            "text/html": [
              "\n",
              "  <div id=\"df-ac26f26f-7a62-4bdb-bde0-4115c0953e4f\">\n",
              "    <div class=\"colab-df-container\">\n",
              "      <div>\n",
              "<style scoped>\n",
              "    .dataframe tbody tr th:only-of-type {\n",
              "        vertical-align: middle;\n",
              "    }\n",
              "\n",
              "    .dataframe tbody tr th {\n",
              "        vertical-align: top;\n",
              "    }\n",
              "\n",
              "    .dataframe thead th {\n",
              "        text-align: right;\n",
              "    }\n",
              "</style>\n",
              "<table border=\"1\" class=\"dataframe\">\n",
              "  <thead>\n",
              "    <tr style=\"text-align: right;\">\n",
              "      <th></th>\n",
              "      <th>PlaceOfOccurrence</th>\n",
              "      <th>AaccidentIdentification</th>\n",
              "      <th>Age</th>\n",
              "      <th>CaseID</th>\n",
              "      <th>DegreeOfImpairment</th>\n",
              "      <th>DegreeCompensated</th>\n",
              "      <th>EmployerIdentification</th>\n",
              "      <th>TerritorialInsurancePosition</th>\n",
              "    </tr>\n",
              "  </thead>\n",
              "  <tbody>\n",
              "    <tr>\n",
              "      <th>count</th>\n",
              "      <td>6.299160e+06</td>\n",
              "      <td>6.299160e+06</td>\n",
              "      <td>6.299160e+06</td>\n",
              "      <td>6.299160e+06</td>\n",
              "      <td>6.299160e+06</td>\n",
              "      <td>6.299160e+06</td>\n",
              "      <td>6.299160e+06</td>\n",
              "      <td>6.299160e+06</td>\n",
              "    </tr>\n",
              "    <tr>\n",
              "      <th>mean</th>\n",
              "      <td>4.151611e+01</td>\n",
              "      <td>1.338861e+07</td>\n",
              "      <td>3.997317e+01</td>\n",
              "      <td>2.152394e+07</td>\n",
              "      <td>-1.740578e-01</td>\n",
              "      <td>1.969991e+01</td>\n",
              "      <td>3.988521e+06</td>\n",
              "      <td>5.107884e+06</td>\n",
              "    </tr>\n",
              "    <tr>\n",
              "      <th>std</th>\n",
              "      <td>2.797904e+01</td>\n",
              "      <td>9.441078e+06</td>\n",
              "      <td>1.522930e+01</td>\n",
              "      <td>1.144760e+06</td>\n",
              "      <td>3.419467e+00</td>\n",
              "      <td>4.435399e+01</td>\n",
              "      <td>3.452446e+06</td>\n",
              "      <td>4.769339e+06</td>\n",
              "    </tr>\n",
              "    <tr>\n",
              "      <th>min</th>\n",
              "      <td>1.000000e+00</td>\n",
              "      <td>-1.000000e+00</td>\n",
              "      <td>-1.000000e+00</td>\n",
              "      <td>1.420664e+06</td>\n",
              "      <td>-1.000000e+00</td>\n",
              "      <td>0.000000e+00</td>\n",
              "      <td>-1.000000e+00</td>\n",
              "      <td>-1.000000e+00</td>\n",
              "    </tr>\n",
              "    <tr>\n",
              "      <th>25%</th>\n",
              "      <td>1.800000e+01</td>\n",
              "      <td>7.000132e+06</td>\n",
              "      <td>2.900000e+01</td>\n",
              "      <td>2.059300e+07</td>\n",
              "      <td>-1.000000e+00</td>\n",
              "      <td>0.000000e+00</td>\n",
              "      <td>-1.000000e+00</td>\n",
              "      <td>-1.000000e+00</td>\n",
              "    </tr>\n",
              "    <tr>\n",
              "      <th>50%</th>\n",
              "      <td>3.600000e+01</td>\n",
              "      <td>1.280664e+07</td>\n",
              "      <td>4.200000e+01</td>\n",
              "      <td>2.160844e+07</td>\n",
              "      <td>-1.000000e+00</td>\n",
              "      <td>3.000000e+00</td>\n",
              "      <td>3.888938e+06</td>\n",
              "      <td>4.574661e+06</td>\n",
              "    </tr>\n",
              "    <tr>\n",
              "      <th>75%</th>\n",
              "      <td>5.900000e+01</td>\n",
              "      <td>1.405415e+07</td>\n",
              "      <td>5.200000e+01</td>\n",
              "      <td>2.251301e+07</td>\n",
              "      <td>-1.000000e+00</td>\n",
              "      <td>2.000000e+01</td>\n",
              "      <td>6.708150e+06</td>\n",
              "      <td>9.844311e+06</td>\n",
              "    </tr>\n",
              "    <tr>\n",
              "      <th>max</th>\n",
              "      <td>1.110000e+02</td>\n",
              "      <td>3.315656e+07</td>\n",
              "      <td>9.000000e+01</td>\n",
              "      <td>2.357264e+07</td>\n",
              "      <td>1.000000e+02</td>\n",
              "      <td>1.832000e+03</td>\n",
              "      <td>1.082037e+07</td>\n",
              "      <td>1.366586e+07</td>\n",
              "    </tr>\n",
              "  </tbody>\n",
              "</table>\n",
              "</div>\n",
              "      <button class=\"colab-df-convert\" onclick=\"convertToInteractive('df-ac26f26f-7a62-4bdb-bde0-4115c0953e4f')\"\n",
              "              title=\"Convert this dataframe to an interactive table.\"\n",
              "              style=\"display:none;\">\n",
              "        \n",
              "  <svg xmlns=\"http://www.w3.org/2000/svg\" height=\"24px\"viewBox=\"0 0 24 24\"\n",
              "       width=\"24px\">\n",
              "    <path d=\"M0 0h24v24H0V0z\" fill=\"none\"/>\n",
              "    <path d=\"M18.56 5.44l.94 2.06.94-2.06 2.06-.94-2.06-.94-.94-2.06-.94 2.06-2.06.94zm-11 1L8.5 8.5l.94-2.06 2.06-.94-2.06-.94L8.5 2.5l-.94 2.06-2.06.94zm10 10l.94 2.06.94-2.06 2.06-.94-2.06-.94-.94-2.06-.94 2.06-2.06.94z\"/><path d=\"M17.41 7.96l-1.37-1.37c-.4-.4-.92-.59-1.43-.59-.52 0-1.04.2-1.43.59L10.3 9.45l-7.72 7.72c-.78.78-.78 2.05 0 2.83L4 21.41c.39.39.9.59 1.41.59.51 0 1.02-.2 1.41-.59l7.78-7.78 2.81-2.81c.8-.78.8-2.07 0-2.86zM5.41 20L4 18.59l7.72-7.72 1.47 1.35L5.41 20z\"/>\n",
              "  </svg>\n",
              "      </button>\n",
              "      \n",
              "  <style>\n",
              "    .colab-df-container {\n",
              "      display:flex;\n",
              "      flex-wrap:wrap;\n",
              "      gap: 12px;\n",
              "    }\n",
              "\n",
              "    .colab-df-convert {\n",
              "      background-color: #E8F0FE;\n",
              "      border: none;\n",
              "      border-radius: 50%;\n",
              "      cursor: pointer;\n",
              "      display: none;\n",
              "      fill: #1967D2;\n",
              "      height: 32px;\n",
              "      padding: 0 0 0 0;\n",
              "      width: 32px;\n",
              "    }\n",
              "\n",
              "    .colab-df-convert:hover {\n",
              "      background-color: #E2EBFA;\n",
              "      box-shadow: 0px 1px 2px rgba(60, 64, 67, 0.3), 0px 1px 3px 1px rgba(60, 64, 67, 0.15);\n",
              "      fill: #174EA6;\n",
              "    }\n",
              "\n",
              "    [theme=dark] .colab-df-convert {\n",
              "      background-color: #3B4455;\n",
              "      fill: #D2E3FC;\n",
              "    }\n",
              "\n",
              "    [theme=dark] .colab-df-convert:hover {\n",
              "      background-color: #434B5C;\n",
              "      box-shadow: 0px 1px 3px 1px rgba(0, 0, 0, 0.15);\n",
              "      filter: drop-shadow(0px 1px 2px rgba(0, 0, 0, 0.3));\n",
              "      fill: #FFFFFF;\n",
              "    }\n",
              "  </style>\n",
              "\n",
              "      <script>\n",
              "        const buttonEl =\n",
              "          document.querySelector('#df-ac26f26f-7a62-4bdb-bde0-4115c0953e4f button.colab-df-convert');\n",
              "        buttonEl.style.display =\n",
              "          google.colab.kernel.accessAllowed ? 'block' : 'none';\n",
              "\n",
              "        async function convertToInteractive(key) {\n",
              "          const element = document.querySelector('#df-ac26f26f-7a62-4bdb-bde0-4115c0953e4f');\n",
              "          const dataTable =\n",
              "            await google.colab.kernel.invokeFunction('convertToInteractive',\n",
              "                                                     [key], {});\n",
              "          if (!dataTable) return;\n",
              "\n",
              "          const docLinkHtml = 'Like what you see? Visit the ' +\n",
              "            '<a target=\"_blank\" href=https://colab.research.google.com/notebooks/data_table.ipynb>data table notebook</a>'\n",
              "            + ' to learn more about interactive tables.';\n",
              "          element.innerHTML = '';\n",
              "          dataTable['output_type'] = 'display_data';\n",
              "          await google.colab.output.renderOutput(dataTable, element);\n",
              "          const docLink = document.createElement('div');\n",
              "          docLink.innerHTML = docLinkHtml;\n",
              "          element.appendChild(docLink);\n",
              "        }\n",
              "      </script>\n",
              "    </div>\n",
              "  </div>\n",
              "  "
            ],
            "text/plain": [
              "       PlaceOfOccurrence  ...  TerritorialInsurancePosition\n",
              "count       6.299160e+06  ...                  6.299160e+06\n",
              "mean        4.151611e+01  ...                  5.107884e+06\n",
              "std         2.797904e+01  ...                  4.769339e+06\n",
              "min         1.000000e+00  ...                 -1.000000e+00\n",
              "25%         1.800000e+01  ...                 -1.000000e+00\n",
              "50%         3.600000e+01  ...                  4.574661e+06\n",
              "75%         5.900000e+01  ...                  9.844311e+06\n",
              "max         1.110000e+02  ...                  1.366586e+07\n",
              "\n",
              "[8 rows x 8 columns]"
            ]
          },
          "metadata": {},
          "execution_count": 14
        }
      ]
    },
    {
      "cell_type": "markdown",
      "source": [
        "Place of Occurence"
      ],
      "metadata": {
        "id": "XzOJcR6OlLgz"
      }
    },
    {
      "cell_type": "code",
      "source": [
        "df.PlaceOfOccurrence"
      ],
      "metadata": {
        "colab": {
          "base_uri": "https://localhost:8080/"
        },
        "id": "ez-uTW7XlAqF",
        "outputId": "ce583926-6675-4d32-a6f6-83d970c9811d"
      },
      "execution_count": 15,
      "outputs": [
        {
          "output_type": "execute_result",
          "data": {
            "text/plain": [
              "0          20\n",
              "1          27\n",
              "2          27\n",
              "3          22\n",
              "4          84\n",
              "           ..\n",
              "6299155    27\n",
              "6299156    78\n",
              "6299157    15\n",
              "6299158     4\n",
              "6299159    87\n",
              "Name: PlaceOfOccurrence, Length: 6299160, dtype: int64"
            ]
          },
          "metadata": {},
          "execution_count": 15
        }
      ]
    },
    {
      "cell_type": "code",
      "source": [
        "Place = df.PlaceOfOccurrence.unique()\n",
        "len(Place)"
      ],
      "metadata": {
        "colab": {
          "base_uri": "https://localhost:8080/"
        },
        "id": "KOiPwuPTlPbW",
        "outputId": "8ef8eb88-79d8-4d93-8b83-29df16f71270"
      },
      "execution_count": 16,
      "outputs": [
        {
          "output_type": "execute_result",
          "data": {
            "text/plain": [
              "107"
            ]
          },
          "metadata": {},
          "execution_count": 16
        }
      ]
    },
    {
      "cell_type": "code",
      "source": [
        "provinces_by_accident = df.PlaceOfOccurrence.value_counts()\n",
        "provinces_by_accident"
      ],
      "metadata": {
        "colab": {
          "base_uri": "https://localhost:8080/"
        },
        "id": "cscZX5a-lwdC",
        "outputId": "639cbb47-9915-4a36-e18a-c0e6a03aabff"
      },
      "execution_count": 17,
      "outputs": [
        {
          "output_type": "execute_result",
          "data": {
            "text/plain": [
              "15     399656\n",
              "58     340884\n",
              "1      243834\n",
              "37     181670\n",
              "17     159292\n",
              "        ...  \n",
              "62      11656\n",
              "86       9764\n",
              "102      7842\n",
              "101      7446\n",
              "94       5548\n",
              "Name: PlaceOfOccurrence, Length: 107, dtype: int64"
            ]
          },
          "metadata": {},
          "execution_count": 17
        }
      ]
    },
    {
      "cell_type": "markdown",
      "source": [
        "https://simple.wikipedia.org/wiki/Provinces_of_Italy , province with code number (ISTAT Code)"
      ],
      "metadata": {
        "id": "GxOKxJ23mSNy"
      }
    },
    {
      "cell_type": "code",
      "source": [
        "provinces_by_accident[:20].plot(kind='barh')"
      ],
      "metadata": {
        "colab": {
          "base_uri": "https://localhost:8080/",
          "height": 282
        },
        "id": "pCk35UKwmdPw",
        "outputId": "90042e8e-5a03-4574-ab9c-91e0077fd38f"
      },
      "execution_count": 18,
      "outputs": [
        {
          "output_type": "execute_result",
          "data": {
            "text/plain": [
              "<matplotlib.axes._subplots.AxesSubplot at 0x7f8c780b6110>"
            ]
          },
          "metadata": {},
          "execution_count": 18
        },
        {
          "output_type": "display_data",
          "data": {
            "image/png": "[encoded data removed]",
            "text/plain": [
              "<Figure size 432x288 with 1 Axes>"
            ]
          },
          "metadata": {
            "needs_background": "light"
          }
        }
      ]
    },
    {
      "cell_type": "code",
      "source": [
        "provinces_by_accident = df.PlaceOfOccurrence.value_counts()\n",
        "high_accident_provinces = provinces_by_accident[provinces_by_accident >= 100000]\n",
        "low_accident_provinces = provinces_by_accident[provinces_by_accident < 100000]"
      ],
      "metadata": {
        "id": "0F5DlICQbt6q"
      },
      "execution_count": 19,
      "outputs": []
    },
    {
      "cell_type": "code",
      "source": [
        "import seaborn as sns\n",
        "sns.set_style(\"darkgrid\")"
      ],
      "metadata": {
        "id": "YxU3gU4foMcL"
      },
      "execution_count": 21,
      "outputs": []
    },
    {
      "cell_type": "code",
      "source": [
        "sns.histplot(provinces_by_accident, log_scale=True)"
      ],
      "metadata": {
        "colab": {
          "base_uri": "https://localhost:8080/",
          "height": 300
        },
        "id": "Q7ObNJZAoPNx",
        "outputId": "388521a8-cf9d-4516-be9b-01d6124e4103"
      },
      "execution_count": 22,
      "outputs": [
        {
          "output_type": "execute_result",
          "data": {
            "text/plain": [
              "<matplotlib.axes._subplots.AxesSubplot at 0x7f8c77fd8f10>"
            ]
          },
          "metadata": {},
          "execution_count": 22
        },
        {
          "output_type": "display_data",
          "data": {
            "image/png": "[encoded data removed]",
            "text/plain": [
              "<Figure size 432x288 with 1 Axes>"
            ]
          },
          "metadata": {}
        }
      ]
    },
    {
      "cell_type": "code",
      "source": [
        "sns.distplot(high_accident_provinces)"
      ],
      "metadata": {
        "colab": {
          "base_uri": "https://localhost:8080/",
          "height": 362
        },
        "id": "xSw9br2qeL6w",
        "outputId": "046f9a09-97dc-463d-cf5f-b1532560b066"
      },
      "execution_count": 23,
      "outputs": [
        {
          "output_type": "stream",
          "name": "stderr",
          "text": [
            "/usr/local/lib/python3.7/dist-packages/seaborn/distributions.py:2619: FutureWarning: `distplot` is a deprecated function and will be removed in a future version. Please adapt your code to use either `displot` (a figure-level function with similar flexibility) or `histplot` (an axes-level function for histograms).\n",
            "  warnings.warn(msg, FutureWarning)\n"
          ]
        },
        {
          "output_type": "execute_result",
          "data": {
            "text/plain": [
              "<matplotlib.axes._subplots.AxesSubplot at 0x7f8c6815c890>"
            ]
          },
          "metadata": {},
          "execution_count": 23
        },
        {
          "output_type": "display_data",
          "data": {
            "image/png": "[encoded data removed]",
            "text/plain": [
              "<Figure size 432x288 with 1 Axes>"
            ]
          },
          "metadata": {}
        }
      ]
    },
    {
      "cell_type": "code",
      "source": [
        "sns.distplot(low_accident_provinces)"
      ],
      "metadata": {
        "colab": {
          "base_uri": "https://localhost:8080/",
          "height": 362
        },
        "id": "ojoEzajMfwY8",
        "outputId": "7630664f-5f83-4adb-b0c4-db0a202b8f2a"
      },
      "execution_count": 24,
      "outputs": [
        {
          "output_type": "stream",
          "name": "stderr",
          "text": [
            "/usr/local/lib/python3.7/dist-packages/seaborn/distributions.py:2619: FutureWarning: `distplot` is a deprecated function and will be removed in a future version. Please adapt your code to use either `displot` (a figure-level function with similar flexibility) or `histplot` (an axes-level function for histograms).\n",
            "  warnings.warn(msg, FutureWarning)\n"
          ]
        },
        {
          "output_type": "execute_result",
          "data": {
            "text/plain": [
              "<matplotlib.axes._subplots.AxesSubplot at 0x7f8c67f95050>"
            ]
          },
          "metadata": {},
          "execution_count": 24
        },
        {
          "output_type": "display_data",
          "data": {
            "image/png": "[encoded data removed]",
            "text/plain": [
              "<Figure size 432x288 with 1 Axes>"
            ]
          },
          "metadata": {}
        }
      ]
    },
    {
      "cell_type": "markdown",
      "source": [
        "Yearwise accidents"
      ],
      "metadata": {
        "id": "qUnoVhlQsn0o"
      }
    },
    {
      "cell_type": "code",
      "source": [
        "df['year'] = pd.DatetimeIndex(df['DateOfEvent']).year"
      ],
      "metadata": {
        "id": "Kx_5-JkgtfN-"
      },
      "execution_count": 25,
      "outputs": []
    },
    {
      "cell_type": "code",
      "source": [
        "df['year']"
      ],
      "metadata": {
        "colab": {
          "base_uri": "https://localhost:8080/"
        },
        "id": "E-aOvOYdtrnZ",
        "outputId": "be1d3bd0-5f9e-4ade-836d-1b25bd6c7eb0"
      },
      "execution_count": 26,
      "outputs": [
        {
          "output_type": "execute_result",
          "data": {
            "text/plain": [
              "0          2018\n",
              "1          2019\n",
              "2          2020\n",
              "3          2020\n",
              "4          2017\n",
              "           ... \n",
              "6299155    2018\n",
              "6299156    2016\n",
              "6299157    2020\n",
              "6299158    2020\n",
              "6299159    2017\n",
              "Name: year, Length: 6299160, dtype: int64"
            ]
          },
          "metadata": {},
          "execution_count": 26
        }
      ]
    },
    {
      "cell_type": "code",
      "source": [
        "yyyy = df['year'].unique()\n",
        "len(yyyy)"
      ],
      "metadata": {
        "colab": {
          "base_uri": "https://localhost:8080/"
        },
        "id": "7ROAnG0It8k4",
        "outputId": "ad429bb1-27f5-4858-f835-9b42a880a9a0"
      },
      "execution_count": 27,
      "outputs": [
        {
          "output_type": "execute_result",
          "data": {
            "text/plain": [
              "5"
            ]
          },
          "metadata": {},
          "execution_count": 27
        }
      ]
    },
    {
      "cell_type": "code",
      "source": [
        "years_by_accident = df['year'].value_counts()\n",
        "years_by_accident"
      ],
      "metadata": {
        "colab": {
          "base_uri": "https://localhost:8080/"
        },
        "id": "iSVZNbsnuU7Y",
        "outputId": "6d3774e7-8ed2-48fd-80e5-a259e0da72e4"
      },
      "execution_count": 28,
      "outputs": [
        {
          "output_type": "execute_result",
          "data": {
            "text/plain": [
              "2017    1293866\n",
              "2018    1290750\n",
              "2019    1289986\n",
              "2016    1282162\n",
              "2020    1142396\n",
              "Name: year, dtype: int64"
            ]
          },
          "metadata": {},
          "execution_count": 28
        }
      ]
    },
    {
      "cell_type": "markdown",
      "source": [
        "Yearwise change in accidents"
      ],
      "metadata": {
        "id": "EBuotvKlzbFX"
      }
    },
    {
      "cell_type": "code",
      "source": [
        "import matplotlib.pyplot as plt\n",
        "import seaborn as sns, numpy as np\n",
        "from pylab import *\n",
        "\n",
        "sns.set(rc={\"figure.figsize\": (8, 4)}); np.random.seed(0)\n",
        "x = years_by_accident\n",
        "\n",
        "subplot(2,2,1)\n",
        "ax = sns.distplot(x)"
      ],
      "metadata": {
        "colab": {
          "base_uri": "https://localhost:8080/",
          "height": 232
        },
        "id": "OUn_6-qvyTCD",
        "outputId": "fe81163c-7c38-4c64-b407-28d350c85478"
      },
      "execution_count": 29,
      "outputs": [
        {
          "output_type": "stream",
          "name": "stderr",
          "text": [
            "/usr/local/lib/python3.7/dist-packages/seaborn/distributions.py:2619: FutureWarning: `distplot` is a deprecated function and will be removed in a future version. Please adapt your code to use either `displot` (a figure-level function with similar flexibility) or `histplot` (an axes-level function for histograms).\n",
            "  warnings.warn(msg, FutureWarning)\n"
          ]
        },
        {
          "output_type": "display_data",
          "data": {
            "image/png": "[encoded data removed]",
            "text/plain": [
              "<Figure size 576x288 with 1 Axes>"
            ]
          },
          "metadata": {}
        }
      ]
    },
    {
      "cell_type": "markdown",
      "source": [
        "Monthwise change in accidents :"
      ],
      "metadata": {
        "id": "GxB7H2E5zel3"
      }
    },
    {
      "cell_type": "code",
      "source": [
        "df['month'] = pd.DatetimeIndex(df['DateOfEvent']).month"
      ],
      "metadata": {
        "id": "Q07q0WVEzlSg"
      },
      "execution_count": 31,
      "outputs": []
    },
    {
      "cell_type": "code",
      "source": [
        "df['month']"
      ],
      "metadata": {
        "colab": {
          "base_uri": "https://localhost:8080/"
        },
        "id": "cl7Zlnn4hEct",
        "outputId": "22bfc855-046c-4047-f986-87156904b7fb"
      },
      "execution_count": 32,
      "outputs": [
        {
          "output_type": "execute_result",
          "data": {
            "text/plain": [
              "0           6\n",
              "1          12\n",
              "2           1\n",
              "3          12\n",
              "4          10\n",
              "           ..\n",
              "6299155    10\n",
              "6299156    10\n",
              "6299157    11\n",
              "6299158     4\n",
              "6299159     6\n",
              "Name: month, Length: 6299160, dtype: int64"
            ]
          },
          "metadata": {},
          "execution_count": 32
        }
      ]
    },
    {
      "cell_type": "code",
      "source": [
        "monthwise_accident = df['month'].value_counts()"
      ],
      "metadata": {
        "id": "sJ9x_dkhhmDG"
      },
      "execution_count": 33,
      "outputs": []
    },
    {
      "cell_type": "markdown",
      "source": [
        "Conclusion : Accidents are maximum in the month of October"
      ],
      "metadata": {
        "id": "sKsTcrXSoN4d"
      }
    },
    {
      "cell_type": "code",
      "source": [
        "monthwise_accident.sort_values( ascending = True ).plot(kind='barh')"
      ],
      "metadata": {
        "colab": {
          "base_uri": "https://localhost:8080/",
          "height": 285
        },
        "id": "ICEsxxUYh2VM",
        "outputId": "c7ca3557-bbfe-43b5-f053-5026d17aaa4c"
      },
      "execution_count": 41,
      "outputs": [
        {
          "output_type": "execute_result",
          "data": {
            "text/plain": [
              "<matplotlib.axes._subplots.AxesSubplot at 0x7f8c6593a850>"
            ]
          },
          "metadata": {},
          "execution_count": 41
        },
        {
          "output_type": "display_data",
          "data": {
            "image/png": "[encoded data removed]",
            "text/plain": [
              "<Figure size 576x288 with 1 Axes>"
            ]
          },
          "metadata": {}
        }
      ]
    },
    {
      "cell_type": "markdown",
      "source": [
        "Which age group facing more accidents/events ?"
      ],
      "metadata": {
        "id": "OKx6H2XlqSUU"
      }
    },
    {
      "cell_type": "code",
      "source": [
        "Agewise = df.Age.value_counts()\n",
        "Agewise"
      ],
      "metadata": {
        "colab": {
          "base_uri": "https://localhost:8080/"
        },
        "id": "E6IUCT-jq6y9",
        "outputId": "c14ef450-f23a-48bd-972d-a631d7499947"
      },
      "execution_count": 49,
      "outputs": [
        {
          "output_type": "execute_result",
          "data": {
            "text/plain": [
              " 51    166600\n",
              " 52    166124\n",
              " 50    165268\n",
              " 53    164820\n",
              " 49    163630\n",
              "        ...  \n",
              "-1        170\n",
              " 88       136\n",
              " 89        92\n",
              " 0         32\n",
              " 90         2\n",
              "Name: Age, Length: 92, dtype: int64"
            ]
          },
          "metadata": {},
          "execution_count": 49
        }
      ]
    },
    {
      "cell_type": "code",
      "source": [
        "Agewise.plot.line()"
      ],
      "metadata": {
        "colab": {
          "base_uri": "https://localhost:8080/",
          "height": 274
        },
        "id": "OsCluGM_02T6",
        "outputId": "148af63e-ebff-4d63-efd3-270ec4233606"
      },
      "execution_count": 58,
      "outputs": [
        {
          "output_type": "execute_result",
          "data": {
            "text/plain": [
              "<matplotlib.axes._subplots.AxesSubplot at 0x7f8c65765ad0>"
            ]
          },
          "metadata": {},
          "execution_count": 58
        },
        {
          "output_type": "display_data",
          "data": {
            "image/png": "[encoded data removed]",
            "text/plain": [
              "<Figure size 540x252 with 1 Axes>"
            ]
          },
          "metadata": {}
        }
      ]
    },
    {
      "cell_type": "markdown",
      "source": [
        "It can be concluded that Age group (40-60 yrs) are more prone to accidents"
      ],
      "metadata": {
        "id": "FBBvIY8L435p"
      }
    },
    {
      "cell_type": "code",
      "source": [
        "sns.scatterplot(x = Agewise.index , y = Agewise)"
      ],
      "metadata": {
        "colab": {
          "base_uri": "https://localhost:8080/",
          "height": 274
        },
        "id": "ijjmF8pc4Y8Z",
        "outputId": "5b775d78-c84b-45e5-d671-90e2b93015fc"
      },
      "execution_count": 62,
      "outputs": [
        {
          "output_type": "execute_result",
          "data": {
            "text/plain": [
              "<matplotlib.axes._subplots.AxesSubplot at 0x7f8c5c378b50>"
            ]
          },
          "metadata": {},
          "execution_count": 62
        },
        {
          "output_type": "display_data",
          "data": {
            "image/png": "[encoded data removed]",
            "text/plain": [
              "<Figure size 540x252 with 1 Axes>"
            ]
          },
          "metadata": {}
        }
      ]
    },
    {
      "cell_type": "markdown",
      "source": [
        "Agewise analysis for female & male workers"
      ],
      "metadata": {
        "id": "NYzmoLlr-_yJ"
      }
    },
    {
      "cell_type": "code",
      "source": [
        "female_accidents = df[df['Gender'] == 'F'].Age.value_counts()\n",
        "female_accidents"
      ],
      "metadata": {
        "colab": {
          "base_uri": "https://localhost:8080/"
        },
        "id": "G7wvQMho_IsR",
        "outputId": "c5c2abe4-f732-4b98-f3b8-d9ca64de9bab"
      },
      "execution_count": 66,
      "outputs": [
        {
          "output_type": "execute_result",
          "data": {
            "text/plain": [
              "53    69990\n",
              "54    69742\n",
              "52    69246\n",
              "51    68324\n",
              "55    67856\n",
              "      ...  \n",
              "86       48\n",
              "87       30\n",
              "89       14\n",
              "88       14\n",
              "0        12\n",
              "Name: Age, Length: 91, dtype: int64"
            ]
          },
          "metadata": {},
          "execution_count": 66
        }
      ]
    },
    {
      "cell_type": "code",
      "source": [
        "sns.scatterplot(x = female_accidents.index , y = female_accidents)"
      ],
      "metadata": {
        "colab": {
          "base_uri": "https://localhost:8080/",
          "height": 274
        },
        "id": "DIjiPLq0_7ZR",
        "outputId": "85ec0da3-146b-4fd5-ff2b-f8bc2f67c127"
      },
      "execution_count": 65,
      "outputs": [
        {
          "output_type": "execute_result",
          "data": {
            "text/plain": [
              "<matplotlib.axes._subplots.AxesSubplot at 0x7f8c5c3f7d10>"
            ]
          },
          "metadata": {},
          "execution_count": 65
        },
        {
          "output_type": "display_data",
          "data": {
            "image/png": "[encoded data removed]",
            "text/plain": [
              "<Figure size 540x252 with 1 Axes>"
            ]
          },
          "metadata": {}
        }
      ]
    },
    {
      "cell_type": "code",
      "source": [
        "male_accidents = df[df['Gender'] == 'M'].Age.value_counts()\n",
        "male_accidents"
      ],
      "metadata": {
        "colab": {
          "base_uri": "https://localhost:8080/"
        },
        "id": "YokpmSNWAf9Y",
        "outputId": "0b3bb232-ec21-4a21-aef6-0186f6f95a99"
      },
      "execution_count": 67,
      "outputs": [
        {
          "output_type": "execute_result",
          "data": {
            "text/plain": [
              " 45    101040\n",
              " 47    100948\n",
              " 44    100248\n",
              " 48    100240\n",
              " 46    100228\n",
              "        ...  \n",
              "-1        122\n",
              " 88       122\n",
              " 89        78\n",
              " 0         20\n",
              " 90         2\n",
              "Name: Age, Length: 92, dtype: int64"
            ]
          },
          "metadata": {},
          "execution_count": 67
        }
      ]
    },
    {
      "cell_type": "code",
      "source": [
        "sns.scatterplot(x = male_accidents.index , y = male_accidents)"
      ],
      "metadata": {
        "colab": {
          "base_uri": "https://localhost:8080/",
          "height": 274
        },
        "id": "WNs1M7mUAqop",
        "outputId": "b90d2971-f12d-44fd-b1b6-43d62a0d2a0e"
      },
      "execution_count": 68,
      "outputs": [
        {
          "output_type": "execute_result",
          "data": {
            "text/plain": [
              "<matplotlib.axes._subplots.AxesSubplot at 0x7f8c5cd43410>"
            ]
          },
          "metadata": {},
          "execution_count": 68
        },
        {
          "output_type": "display_data",
          "data": {
            "image/png": "[encoded data removed]",
            "text/plain": [
              "<Figure size 540x252 with 1 Axes>"
            ]
          },
          "metadata": {}
        }
      ]
    },
    {
      "cell_type": "code",
      "source": [
        "sns.scatterplot(x = male_accidents.index , y = male_accidents , label='Male')\n",
        "sns.scatterplot(x = female_accidents.index , y = female_accidents , label='Female' )\n"
      ],
      "metadata": {
        "colab": {
          "base_uri": "https://localhost:8080/",
          "height": 274
        },
        "id": "zC4gfXdrBwcw",
        "outputId": "a039746a-0dc4-4a32-f9e8-1917db11c782"
      },
      "execution_count": 78,
      "outputs": [
        {
          "output_type": "execute_result",
          "data": {
            "text/plain": [
              "<matplotlib.axes._subplots.AxesSubplot at 0x7f8c5bd8ded0>"
            ]
          },
          "metadata": {},
          "execution_count": 78
        },
        {
          "output_type": "display_data",
          "data": {
            "image/png": "[encoded data removed]",
            "text/plain": [
              "<Figure size 540x252 with 1 Axes>"
            ]
          },
          "metadata": {}
        }
      ]
    },
    {
      "cell_type": "markdown",
      "source": [
        "**Summary & Conclusions**\n",
        "\n",
        "\n",
        "\n",
        "*   Top 3 province with high no. of accidents : ['ISTAT Code' : 'Province' , '15':'Milan','58':'Rome','1':'Turin']\n",
        "*   The data is present from year 2016 to 2020\n",
        "\n",
        "*   Not much variation in number of accidents seen over the past 4 years.\n",
        "\n",
        "*   Maximum accidents took place after the 10th month i.e. after October.\n",
        "\n",
        "*   It can be concluded that Age group (40-60 yrs) are more prone to accidents  for both male & female gender\n",
        "\n",
        "\n",
        "\n",
        "\n",
        "\n",
        "\n",
        "\n"
      ],
      "metadata": {
        "id": "m6nnkH11FxgA"
      }
    }
  ]
}